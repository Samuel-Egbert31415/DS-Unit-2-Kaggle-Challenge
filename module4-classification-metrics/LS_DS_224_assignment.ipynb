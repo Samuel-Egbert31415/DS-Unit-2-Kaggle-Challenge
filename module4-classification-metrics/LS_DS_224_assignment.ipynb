{
  "nbformat": 4,
  "nbformat_minor": 0,
  "metadata": {
    "kernelspec": {
      "display_name": "Python 3",
      "language": "python",
      "name": "python3"
    },
    "language_info": {
      "codemirror_mode": {
        "name": "ipython",
        "version": 3
      },
      "file_extension": ".py",
      "mimetype": "text/x-python",
      "name": "python",
      "nbconvert_exporter": "python",
      "pygments_lexer": "ipython3",
      "version": "3.7.3"
    },
    "colab": {
      "name": "LS_DS_224_assignment.ipynb",
      "provenance": []
    }
  },
  "cells": [
    {
      "cell_type": "markdown",
      "metadata": {
        "id": "Bs4jCgMdCXx1"
      },
      "source": [
        "Lambda School Data Science\n",
        "\n",
        "*Unit 2, Sprint 2, Module 4*\n",
        "\n",
        "---"
      ]
    },
    {
      "cell_type": "markdown",
      "metadata": {
        "id": "nCc3XZEyG3XV"
      },
      "source": [
        "# Classification Metrics\n",
        "\n",
        "## Assignment\n",
        "- [ ] If you haven't yet, [review requirements for your portfolio project](https://lambdaschool.github.io/ds/unit2), then submit your dataset.\n",
        "- [ ] Plot a confusion matrix for your Tanzania Waterpumps model.\n",
        "- [ ] Continue to participate in our Kaggle challenge. Every student should have made at least one submission that scores at least 70% accuracy (well above the majority class baseline).\n",
        "- [ ] Submit your final predictions to our Kaggle competition. Optionally, go to **My Submissions**, and _\"you may select up to 1 submission to be used to count towards your final leaderboard score.\"_\n",
        "- [ ] Commit your notebook to your fork of the GitHub repo.\n",
        "- [ ] Read [Maximizing Scarce Maintenance Resources with Data: Applying predictive modeling, precision at k, and clustering to optimize impact](http://archive.is/DelgE), by Lambda DS3 student Michael Brady. His blog post extends the Tanzania Waterpumps scenario, far beyond what's in the lecture notebook.\n",
        "\n",
        "\n",
        "## Stretch Goals\n",
        "\n",
        "### Reading\n",
        "\n",
        "- [Attacking discrimination with smarter machine learning](https://research.google.com/bigpicture/attacking-discrimination-in-ml/), by Google Research, with  interactive visualizations. _\"A threshold classifier essentially makes a yes/no decision, putting things in one category or another. We look at how these classifiers work, ways they can potentially be unfair, and how you might turn an unfair classifier into a fairer one. As an illustrative example, we focus on loan granting scenarios where a bank may grant or deny a loan based on a single, automatically computed number such as a credit score.\"_\n",
        "- [Notebook about how to calculate expected value from a confusion matrix by treating it as a cost-benefit matrix](https://github.com/podopie/DAT18NYC/blob/master/classes/13-expected_value_cost_benefit_analysis.ipynb)\n",
        "- [Visualizing Machine Learning Thresholds to Make Better Business Decisions](https://blog.insightdatascience.com/visualizing-machine-learning-thresholds-to-make-better-business-decisions-4ab07f823415)\n",
        "\n",
        "\n",
        "### Doing\n",
        "- [ ] Share visualizations in our Slack channel!\n",
        "- [ ] RandomizedSearchCV / GridSearchCV, for model selection. (See module 3 assignment notebook)\n",
        "- [ ] Stacking Ensemble. (See module 3 assignment notebook)\n",
        "- [ ] More Categorical Encoding. (See module 2 assignment notebook)"
      ]
    },
    {
      "cell_type": "code",
      "metadata": {
        "id": "lsbRiKBoB5RE"
      },
      "source": [
        "%%capture\n",
        "import sys\n",
        "\n",
        "# If you're on Colab:\n",
        "if 'google.colab' in sys.modules:\n",
        "    DATA_PATH = 'https://raw.githubusercontent.com/LambdaSchool/DS-Unit-2-Kaggle-Challenge/master/data/'\n",
        "    !pip install category_encoders==2.*\n",
        "\n",
        "# If you're working locally:\n",
        "else:\n",
        "    DATA_PATH = '../data/'"
      ],
      "execution_count": 3,
      "outputs": []
    },
    {
      "cell_type": "code",
      "metadata": {
        "id": "BVA1lph8CcNX"
      },
      "source": [
        "import pandas as pd\n",
        "\n",
        "# Merge train_features.csv & train_labels.csv\n",
        "train = pd.merge(pd.read_csv(DATA_PATH+'waterpumps/train_features.csv'), \n",
        "                 pd.read_csv(DATA_PATH+'waterpumps/train_labels.csv'))\n",
        "\n",
        "# Read test_features.csv & sample_submission.csv\n",
        "test = pd.read_csv(DATA_PATH+'waterpumps/test_features.csv')\n",
        "sample_submission = pd.read_csv(DATA_PATH+'waterpumps/sample_submission.csv')"
      ],
      "execution_count": 4,
      "outputs": []
    },
    {
      "cell_type": "code",
      "metadata": {
        "colab": {
          "base_uri": "https://localhost:8080/"
        },
        "id": "HJM52abFCXx9",
        "outputId": "69e76eb3-3d2e-4310-de51-9513648cc5a0"
      },
      "source": [
        "%matplotlib inline\r\n",
        "import category_encoders as ce\r\n",
        "import matplotlib.pyplot as plt\r\n",
        "import numpy as np\r\n",
        "import pandas as pd\r\n",
        "import seaborn as sns\r\n",
        "from sklearn.impute import SimpleImputer\r\n",
        "from sklearn.metrics import accuracy_score\r\n",
        "from sklearn.model_selection import train_test_split\r\n",
        "from sklearn.pipeline import make_pipeline\r\n",
        "from sklearn.ensemble import RandomForestClassifier\r\n",
        "\r\n",
        "def wrangle(X):\r\n",
        "    \"\"\"Wrangles train, validate, and test sets in the same way\"\"\"\r\n",
        "    X = X.copy()\r\n",
        "\r\n",
        "    # Convert date_recorded to datetime\r\n",
        "    X['date_recorded'] = pd.to_datetime(X['date_recorded'], infer_datetime_format=True)\r\n",
        "    \r\n",
        "    # Extract components from date_recorded, then drop the original column\r\n",
        "    X['year_recorded'] = X['date_recorded'].dt.year\r\n",
        "    X['month_recorded'] = X['date_recorded'].dt.month\r\n",
        "    X['day_recorded'] = X['date_recorded'].dt.day\r\n",
        "    X = X.drop(columns='date_recorded')\r\n",
        "    \r\n",
        "    # Engineer feature: how many years from construction_year to date_recorded\r\n",
        "    X['years'] = X['year_recorded'] - X['construction_year']    \r\n",
        "    \r\n",
        "    # Drop recorded_by (never varies) and id (always varies, random)\r\n",
        "    unusable_variance = ['recorded_by', 'id']\r\n",
        "    X = X.drop(columns=unusable_variance)\r\n",
        "    \r\n",
        "    # Drop duplicate columns\r\n",
        "    duplicate_columns = ['quantity_group']\r\n",
        "    X = X.drop(columns=duplicate_columns)\r\n",
        "    \r\n",
        "    # About 3% of the time, latitude has small values near zero,\r\n",
        "    # outside Tanzania, so we'll treat these like null values\r\n",
        "    X['latitude'] = X['latitude'].replace(-2e-08, np.nan)\r\n",
        "    \r\n",
        "    # When columns have zeros and shouldn't, they are like null values\r\n",
        "    cols_with_zeros = ['construction_year', 'longitude', 'latitude', 'gps_height', 'population']\r\n",
        "    for col in cols_with_zeros:\r\n",
        "        X[col] = X[col].replace(0, np.nan)\r\n",
        "        \r\n",
        "    return X"
      ],
      "execution_count": 5,
      "outputs": [
        {
          "output_type": "stream",
          "text": [
            "/usr/local/lib/python3.6/dist-packages/statsmodels/tools/_testing.py:19: FutureWarning: pandas.util.testing is deprecated. Use the functions in the public API at pandas.testing instead.\n",
            "  import pandas.util.testing as tm\n"
          ],
          "name": "stderr"
        }
      ]
    },
    {
      "cell_type": "code",
      "metadata": {
        "id": "CjZoHDpQ0Mzf"
      },
      "source": [
        "# Merge train_features.csv & train_labels.csv\r\n",
        "df = pd.merge(pd.read_csv(DATA_PATH+'waterpumps/train_features.csv'), \r\n",
        "                 pd.read_csv(DATA_PATH+'waterpumps/train_labels.csv'))\r\n",
        "\r\n",
        "# Read test_features.csv & sample_submission.csv\r\n",
        "test = pd.read_csv(DATA_PATH+'waterpumps/test_features.csv')\r\n",
        "sample_submission = pd.read_csv(DATA_PATH+'waterpumps/sample_submission.csv')"
      ],
      "execution_count": 7,
      "outputs": []
    },
    {
      "cell_type": "markdown",
      "metadata": {
        "id": "zY8qMg3w0Aoj"
      },
      "source": [
        "#I. Wrangle"
      ]
    },
    {
      "cell_type": "code",
      "metadata": {
        "id": "Atsq7osg0mDn"
      },
      "source": [
        "df = wrangle(df)"
      ],
      "execution_count": 8,
      "outputs": []
    },
    {
      "cell_type": "code",
      "metadata": {
        "id": "dIHPvw8Cz_AX",
        "outputId": "76435eb4-ab5a-45a0-f1c1-2050a7eb2f37",
        "colab": {
          "base_uri": "https://localhost:8080/"
        }
      },
      "source": [
        "df['status_group'].value_counts()"
      ],
      "execution_count": 9,
      "outputs": [
        {
          "output_type": "execute_result",
          "data": {
            "text/plain": [
              "functional                 32259\n",
              "non functional             22824\n",
              "functional needs repair     4317\n",
              "Name: status_group, dtype: int64"
            ]
          },
          "metadata": {
            "tags": []
          },
          "execution_count": 9
        }
      ]
    },
    {
      "cell_type": "code",
      "metadata": {
        "id": "O33eMGk50pjH"
      },
      "source": [
        "df['needs_to_repair'] = df['status_group'].apply(lambda x : 0 if x == 'functional' else 1)"
      ],
      "execution_count": 12,
      "outputs": []
    },
    {
      "cell_type": "code",
      "metadata": {
        "id": "SM4DcBbt0ssg",
        "outputId": "d78c83f1-8dd1-4851-d213-ed03aa1fcd78",
        "colab": {
          "base_uri": "https://localhost:8080/"
        }
      },
      "source": [
        "df['needs_to_repair'].value_counts()"
      ],
      "execution_count": 14,
      "outputs": [
        {
          "output_type": "execute_result",
          "data": {
            "text/plain": [
              "0    32259\n",
              "1    27141\n",
              "Name: needs_to_repair, dtype: int64"
            ]
          },
          "metadata": {
            "tags": []
          },
          "execution_count": 14
        }
      ]
    },
    {
      "cell_type": "markdown",
      "metadata": {
        "id": "5gSBWhjt02nO"
      },
      "source": [
        "#II. Split Data"
      ]
    },
    {
      "cell_type": "code",
      "metadata": {
        "id": "hzwnau8E0zqI"
      },
      "source": [
        "X = df.drop(['needs_to_repair', 'status_group'], axis=1)\r\n",
        "y = df['needs_to_repair']"
      ],
      "execution_count": 15,
      "outputs": []
    },
    {
      "cell_type": "code",
      "metadata": {
        "id": "Ki7T5zdS09LI"
      },
      "source": [
        "X_train, X_val, y_train, y_val = train_test_split(X, y, test_size=0.2, random_state=42)"
      ],
      "execution_count": 16,
      "outputs": []
    },
    {
      "cell_type": "markdown",
      "metadata": {
        "id": "O0i4n4m01Hfe"
      },
      "source": [
        "#III. Create Model"
      ]
    },
    {
      "cell_type": "code",
      "metadata": {
        "id": "Nz83Y5ZM1EoA"
      },
      "source": [
        "model = make_pipeline(\r\n",
        "    ce.OrdinalEncoder(),\r\n",
        "    SimpleImputer(),\r\n",
        "    RandomForestClassifier(n_estimators=50, n_jobs=-1, random_state=42)\r\n",
        ")"
      ],
      "execution_count": 18,
      "outputs": []
    },
    {
      "cell_type": "code",
      "metadata": {
        "id": "fmMNen_Q1NJP",
        "outputId": "0b28a84e-ec7e-409b-9a3e-db5963b72b16",
        "colab": {
          "base_uri": "https://localhost:8080/"
        }
      },
      "source": [
        "model.fit(X_train, y_train)"
      ],
      "execution_count": 19,
      "outputs": [
        {
          "output_type": "execute_result",
          "data": {
            "text/plain": [
              "Pipeline(memory=None,\n",
              "         steps=[('ordinalencoder',\n",
              "                 OrdinalEncoder(cols=['funder', 'installer', 'wpt_name',\n",
              "                                      'basin', 'subvillage', 'region', 'lga',\n",
              "                                      'ward', 'public_meeting',\n",
              "                                      'scheme_management', 'scheme_name',\n",
              "                                      'permit', 'extraction_type',\n",
              "                                      'extraction_type_group',\n",
              "                                      'extraction_type_class', 'management',\n",
              "                                      'management_group', 'payment',\n",
              "                                      'payment_type', 'water_quality',\n",
              "                                      'quality_...\n",
              "                 RandomForestClassifier(bootstrap=True, ccp_alpha=0.0,\n",
              "                                        class_weight=None, criterion='gini',\n",
              "                                        max_depth=None, max_features='auto',\n",
              "                                        max_leaf_nodes=None, max_samples=None,\n",
              "                                        min_impurity_decrease=0.0,\n",
              "                                        min_impurity_split=None,\n",
              "                                        min_samples_leaf=1, min_samples_split=2,\n",
              "                                        min_weight_fraction_leaf=0.0,\n",
              "                                        n_estimators=50, n_jobs=-1,\n",
              "                                        oob_score=False, random_state=42,\n",
              "                                        verbose=0, warm_start=False))],\n",
              "         verbose=False)"
            ]
          },
          "metadata": {
            "tags": []
          },
          "execution_count": 19
        }
      ]
    },
    {
      "cell_type": "code",
      "metadata": {
        "id": "8S6U0hVs1QGg"
      },
      "source": [
        "y_pred = model.predict(X_val)"
      ],
      "execution_count": 20,
      "outputs": []
    },
    {
      "cell_type": "code",
      "metadata": {
        "id": "wjhAAqRb1SRH",
        "outputId": "6ef39c73-fb83-4ffd-9fb4-6e0f5087147a",
        "colab": {
          "base_uri": "https://localhost:8080/"
        }
      },
      "source": [
        "accuracy_score(y_val, y_pred)"
      ],
      "execution_count": 21,
      "outputs": [
        {
          "output_type": "execute_result",
          "data": {
            "text/plain": [
              "0.825925925925926"
            ]
          },
          "metadata": {
            "tags": []
          },
          "execution_count": 21
        }
      ]
    },
    {
      "cell_type": "markdown",
      "metadata": {
        "id": "pPSySOgY1Y1Q"
      },
      "source": [
        "#IV. Visualize"
      ]
    },
    {
      "cell_type": "code",
      "metadata": {
        "id": "KxnoCzSs1Whn",
        "outputId": "954698d6-4d6c-4ad7-d30f-1f72ea8dae22",
        "colab": {
          "base_uri": "https://localhost:8080/",
          "height": 297
        }
      },
      "source": [
        "from sklearn.metrics import plot_confusion_matrix\r\n",
        "plot_confusion_matrix(model, X_val, y_val, values_format='.0f')"
      ],
      "execution_count": 22,
      "outputs": [
        {
          "output_type": "execute_result",
          "data": {
            "text/plain": [
              "<sklearn.metrics._plot.confusion_matrix.ConfusionMatrixDisplay at 0x7fd69776f9e8>"
            ]
          },
          "metadata": {
            "tags": []
          },
          "execution_count": 22
        },
        {
          "output_type": "display_data",
          "data": {
            "image/png": "[encoded data removed]",
            "text/plain": [
              "<Figure size 432x288 with 2 Axes>"
            ]
          },
          "metadata": {
            "tags": [],
            "needs_background": "light"
          }
        }
      ]
    },
    {
      "cell_type": "code",
      "metadata": {
        "id": "D3ruJvd31dnX",
        "outputId": "ce629314-6158-4f9e-ece2-46ea15bdbf65",
        "colab": {
          "base_uri": "https://localhost:8080/"
        }
      },
      "source": [
        "from sklearn.metrics import classification_report\r\n",
        "print(classification_report(y_val, y_pred, digits=6))"
      ],
      "execution_count": 23,
      "outputs": [
        {
          "output_type": "stream",
          "text": [
            "              precision    recall  f1-score   support\n",
            "\n",
            "           0   0.816712  0.876413  0.845510      6457\n",
            "           1   0.838820  0.765812  0.800655      5423\n",
            "\n",
            "    accuracy                       0.825926     11880\n",
            "   macro avg   0.827766  0.821113  0.823083     11880\n",
            "weighted avg   0.826804  0.825926  0.825035     11880\n",
            "\n"
          ],
          "name": "stdout"
        }
      ]
    },
    {
      "cell_type": "code",
      "metadata": {
        "id": "zYqGFHU31kvw",
        "outputId": "3ff9a65f-4eda-4fc8-f49d-77412b31f464",
        "colab": {
          "base_uri": "https://localhost:8080/"
        }
      },
      "source": [
        "recall = 4153/(4153+1270)\r\n",
        "recall"
      ],
      "execution_count": 24,
      "outputs": [
        {
          "output_type": "execute_result",
          "data": {
            "text/plain": [
              "0.7658122810252628"
            ]
          },
          "metadata": {
            "tags": []
          },
          "execution_count": 24
        }
      ]
    },
    {
      "cell_type": "code",
      "metadata": {
        "id": "o0_56xdn10HZ",
        "outputId": "a172f31f-6b07-468d-ec55-dfe7baebea9d",
        "colab": {
          "base_uri": "https://localhost:8080/"
        }
      },
      "source": [
        "precision = 4153/(4153+798)\r\n",
        "precision"
      ],
      "execution_count": 25,
      "outputs": [
        {
          "output_type": "execute_result",
          "data": {
            "text/plain": [
              "0.8388204403150878"
            ]
          },
          "metadata": {
            "tags": []
          },
          "execution_count": 25
        }
      ]
    },
    {
      "cell_type": "code",
      "metadata": {
        "id": "Dguk9I8P36RB",
        "outputId": "5efe01f1-452e-4c6a-dafa-f99c1a42a11f",
        "colab": {
          "base_uri": "https://localhost:8080/"
        }
      },
      "source": [
        "accuracy = (4153+5659)/(4153+5659+798+1270)\r\n",
        "accuracy"
      ],
      "execution_count": 26,
      "outputs": [
        {
          "output_type": "execute_result",
          "data": {
            "text/plain": [
              "0.825925925925926"
            ]
          },
          "metadata": {
            "tags": []
          },
          "execution_count": 26
        }
      ]
    }
  ]
}
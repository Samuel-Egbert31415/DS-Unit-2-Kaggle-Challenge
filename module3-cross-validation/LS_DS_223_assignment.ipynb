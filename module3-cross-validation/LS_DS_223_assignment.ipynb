{
  "nbformat": 4,
  "nbformat_minor": 0,
  "metadata": {
    "kernelspec": {
      "display_name": "Python 3",
      "language": "python",
      "name": "python3"
    },
    "language_info": {
      "codemirror_mode": {
        "name": "ipython",
        "version": 3
      },
      "file_extension": ".py",
      "mimetype": "text/x-python",
      "name": "python",
      "nbconvert_exporter": "python",
      "pygments_lexer": "ipython3",
      "version": "3.7.6"
    },
    "colab": {
      "name": "LS_DS_223_assignment.ipynb",
      "provenance": []
    }
  },
  "cells": [
    {
      "cell_type": "markdown",
      "metadata": {
        "id": "WmkBtVFZiNlM"
      },
      "source": [
        "Lambda School Data Science\n",
        "\n",
        "*Unit 2, Sprint 2, Module 3*\n",
        "\n",
        "---"
      ]
    },
    {
      "cell_type": "markdown",
      "metadata": {
        "id": "6e-FdAl0iNlR"
      },
      "source": [
        "# Cross-Validation\n",
        "\n",
        "\n",
        "## Assignment\n",
        "- [ ] [Review requirements for your portfolio project](https://lambdaschool.github.io/ds/unit2), then submit your dataset.\n",
        "- [ ] Continue to participate in our Kaggle challenge. \n",
        "- [ ] Use scikit-learn for hyperparameter optimization with RandomizedSearchCV.\n",
        "- [ ] Submit your predictions to our Kaggle competition. (Go to our Kaggle InClass competition webpage. Use the blue **Submit Predictions** button to upload your CSV file. Or you can use the Kaggle API to submit your predictions.)\n",
        "- [ ] Commit your notebook to your fork of the GitHub repo.\n",
        "\n",
        "\n",
        "**You can't just copy** from the lesson notebook to this assignment.\n",
        "\n",
        "- Because the lesson was **regression**, but the assignment is **classification.**\n",
        "- Because the lesson used [TargetEncoder](https://contrib.scikit-learn.org/categorical-encoding/targetencoder.html), which doesn't work as-is for _multi-class_ classification.\n",
        "\n",
        "So you will have to adapt the example, which is good real-world practice.\n",
        "\n",
        "1. Use a model for classification, such as [RandomForestClassifier](https://scikit-learn.org/stable/modules/generated/sklearn.ensemble.RandomForestClassifier.html)\n",
        "2. Use hyperparameters that match the classifier, such as `randomforestclassifier__ ...`\n",
        "3. Use a metric for classification, such as [`scoring='accuracy'`](https://scikit-learn.org/stable/modules/model_evaluation.html#common-cases-predefined-values)\n",
        "4. If you’re doing a multi-class classification problem — such as whether a waterpump is functional, functional needs repair, or nonfunctional — then use a categorical encoding that works for multi-class classification, such as [OrdinalEncoder](https://contrib.scikit-learn.org/categorical-encoding/ordinal.html) (not [TargetEncoder](https://contrib.scikit-learn.org/categorical-encoding/targetencoder.html))\n",
        "\n",
        "\n",
        "\n",
        "## Stretch Goals\n",
        "\n",
        "### Reading\n",
        "- Jake VanderPlas, [Python Data Science Handbook, Chapter 5.3](https://jakevdp.github.io/PythonDataScienceHandbook/05.03-hyperparameters-and-model-validation.html), Hyperparameters and Model Validation\n",
        "- Jake VanderPlas, [Statistics for Hackers](https://speakerdeck.com/jakevdp/statistics-for-hackers?slide=107)\n",
        "- Ron Zacharski, [A Programmer's Guide to Data Mining, Chapter 5](http://guidetodatamining.com/chapter5/), 10-fold cross validation\n",
        "- Sebastian Raschka, [A Basic Pipeline and Grid Search Setup](https://github.com/rasbt/python-machine-learning-book/blob/master/code/bonus/svm_iris_pipeline_and_gridsearch.ipynb)\n",
        "- Peter Worcester, [A Comparison of Grid Search and Randomized Search Using Scikit Learn](https://blog.usejournal.com/a-comparison-of-grid-search-and-randomized-search-using-scikit-learn-29823179bc85)\n",
        "\n",
        "### Doing\n",
        "- Add your own stretch goals!\n",
        "- Try other [categorical encodings](https://contrib.scikit-learn.org/categorical-encoding/). See the previous assignment notebook for details.\n",
        "- In additon to `RandomizedSearchCV`, scikit-learn has [`GridSearchCV`](https://scikit-learn.org/stable/modules/generated/sklearn.model_selection.GridSearchCV.html). Another library called scikit-optimize has [`BayesSearchCV`](https://scikit-optimize.github.io/notebooks/sklearn-gridsearchcv-replacement.html). Experiment with these alternatives.\n",
        "- _[Introduction to Machine Learning with Python](http://shop.oreilly.com/product/0636920030515.do)_ discusses options for \"Grid-Searching Which Model To Use\" in Chapter 6:\n",
        "\n",
        "> You can even go further in combining GridSearchCV and Pipeline: it is also possible to search over the actual steps being performed in the pipeline (say whether to use StandardScaler or MinMaxScaler). This leads to an even bigger search space and should be considered carefully. Trying all possible solutions is usually not a viable machine learning strategy. However, here is an example comparing a RandomForestClassifier and an SVC ...\n",
        "\n",
        "The example is shown in [the accompanying notebook](https://github.com/amueller/introduction_to_ml_with_python/blob/master/06-algorithm-chains-and-pipelines.ipynb), code cells 35-37. Could you apply this concept to your own pipelines?\n"
      ]
    },
    {
      "cell_type": "markdown",
      "metadata": {
        "id": "pz4COPuJiNlS"
      },
      "source": [
        "### BONUS: Stacking!\n",
        "\n",
        "Here's some code you can use to \"stack\" multiple submissions, which is another form of ensembling:\n",
        "\n",
        "```python\n",
        "import pandas as pd\n",
        "\n",
        "# Filenames of your submissions you want to ensemble\n",
        "files = ['submission-01.csv', 'submission-02.csv', 'submission-03.csv']\n",
        "\n",
        "target = 'status_group'\n",
        "submissions = (pd.read_csv(file)[[target]] for file in files)\n",
        "ensemble = pd.concat(submissions, axis='columns')\n",
        "majority_vote = ensemble.mode(axis='columns')[0]\n",
        "\n",
        "sample_submission = pd.read_csv('sample_submission.csv')\n",
        "submission = sample_submission.copy()\n",
        "submission[target] = majority_vote\n",
        "submission.to_csv('my-ultimate-ensemble-submission.csv', index=False)\n",
        "```"
      ]
    },
    {
      "cell_type": "code",
      "metadata": {
        "id": "W3xS_hUDiNlS"
      },
      "source": [
        "%%capture\n",
        "import sys\n",
        "\n",
        "# If you're on Colab:\n",
        "if 'google.colab' in sys.modules:\n",
        "    DATA_PATH = 'https://raw.githubusercontent.com/LambdaSchool/DS-Unit-2-Kaggle-Challenge/master/data/'\n",
        "    !pip install category_encoders==2.*\n",
        "\n",
        "# If you're working locally:\n",
        "else:\n",
        "    DATA_PATH = '../data/'"
      ],
      "execution_count": 1,
      "outputs": []
    },
    {
      "cell_type": "code",
      "metadata": {
        "id": "Nn4P7LZliNlT"
      },
      "source": [
        "import pandas as pd\n",
        "\n",
        "# Merge train_features.csv & train_labels.csv\n",
        "train = pd.merge(pd.read_csv(DATA_PATH+'waterpumps/train_features.csv'), \n",
        "                 pd.read_csv(DATA_PATH+'waterpumps/train_labels.csv'))\n",
        "\n",
        "# Read test_features.csv & sample_submission.csv\n",
        "test = pd.read_csv(DATA_PATH+'waterpumps/test_features.csv')\n",
        "sample_submission = pd.read_csv(DATA_PATH+'waterpumps/sample_submission.csv')"
      ],
      "execution_count": 3,
      "outputs": []
    },
    {
      "cell_type": "markdown",
      "metadata": {
        "id": "BGif1Dp0izKw"
      },
      "source": [
        "#I. Wrangle"
      ]
    },
    {
      "cell_type": "code",
      "metadata": {
        "colab": {
          "base_uri": "https://localhost:8080/"
        },
        "id": "YlIlLyeJiNlT",
        "outputId": "979160fa-0e88-4164-fe5b-4ff54ed4d584"
      },
      "source": [
        "import category_encoders as ce\r\n",
        "import matplotlib.pyplot as plt\r\n",
        "import numpy as np\r\n",
        "import pandas as pd\r\n",
        "import seaborn as sns\r\n",
        "from sklearn.impute import SimpleImputer\r\n",
        "from sklearn.metrics import accuracy_score\r\n",
        "from sklearn.model_selection import train_test_split\r\n",
        "from sklearn.pipeline import make_pipeline\r\n",
        "from sklearn.ensemble import RandomForestClassifier\r\n",
        "\r\n",
        "def wrangle(X):\r\n",
        "    \"\"\"Wrangles train, validate, and test sets in the same way\"\"\"\r\n",
        "    X = X.copy()\r\n",
        "\r\n",
        "    # Convert date_recorded to datetime\r\n",
        "    X['date_recorded'] = pd.to_datetime(X['date_recorded'], infer_datetime_format=True)\r\n",
        "    \r\n",
        "    # Extract components from date_recorded, then drop the original column\r\n",
        "    X['year_recorded'] = X['date_recorded'].dt.year\r\n",
        "    X['month_recorded'] = X['date_recorded'].dt.month\r\n",
        "    X['day_recorded'] = X['date_recorded'].dt.day\r\n",
        "    X = X.drop(columns='date_recorded')\r\n",
        "    \r\n",
        "    # Engineer feature: how many years from construction_year to date_recorded\r\n",
        "    X['years'] = X['year_recorded'] - X['construction_year']    \r\n",
        "    \r\n",
        "    # Drop recorded_by (never varies) and id (always varies, random)\r\n",
        "    unusable_variance = ['recorded_by', 'id']\r\n",
        "    X = X.drop(columns=unusable_variance)\r\n",
        "    \r\n",
        "    # Drop duplicate columns\r\n",
        "    duplicate_columns = ['quantity_group']\r\n",
        "    X = X.drop(columns=duplicate_columns)\r\n",
        "    \r\n",
        "    # About 3% of the time, latitude has small values near zero,\r\n",
        "    # outside Tanzania, so we'll treat these like null values\r\n",
        "    X['latitude'] = X['latitude'].replace(-2e-08, np.nan)\r\n",
        "    \r\n",
        "    # When columns have zeros and shouldn't, they are like null values\r\n",
        "    cols_with_zeros = ['construction_year', 'longitude', 'latitude', 'gps_height', 'population']\r\n",
        "    for col in cols_with_zeros:\r\n",
        "        X[col] = X[col].replace(0, np.nan)\r\n",
        "        \r\n",
        "    return X"
      ],
      "execution_count": 4,
      "outputs": [
        {
          "output_type": "stream",
          "text": [
            "/usr/local/lib/python3.6/dist-packages/statsmodels/tools/_testing.py:19: FutureWarning: pandas.util.testing is deprecated. Use the functions in the public API at pandas.testing instead.\n",
            "  import pandas.util.testing as tm\n"
          ],
          "name": "stderr"
        }
      ]
    },
    {
      "cell_type": "code",
      "metadata": {
        "id": "HUlwfmB_i9VS"
      },
      "source": [
        "#apply the wrangle function to the test and train sets\r\n",
        "train_df = wrangle(train)\r\n",
        "test_df = wrangle(test)"
      ],
      "execution_count": 6,
      "outputs": []
    },
    {
      "cell_type": "markdown",
      "metadata": {
        "id": "t7rfthR8jNTX"
      },
      "source": [
        "#II. Split Data"
      ]
    },
    {
      "cell_type": "code",
      "metadata": {
        "id": "7Nphc0oJjBiT"
      },
      "source": [
        "target = 'status_group'\r\n",
        "X_train = train_df.drop('status_group', axis = 1)\r\n",
        "y_train = train_df['status_group']\r\n",
        "\r\n",
        "X_test = test_df\r\n",
        "#Since we are doing K-fold validation, we don't need to manually create a validation set"
      ],
      "execution_count": 7,
      "outputs": []
    },
    {
      "cell_type": "markdown",
      "metadata": {
        "id": "6ixK7MlykKDw"
      },
      "source": [
        "#III. Build Model"
      ]
    },
    {
      "cell_type": "code",
      "metadata": {
        "id": "c2GFbImPjZl6"
      },
      "source": [
        "#Import statements\r\n",
        "#Since we are doing classification, not regression, we will import the machinery needed for Random Forest\r\n",
        "from sklearn.pipeline import make_pipeline\r\n",
        "from category_encoders import OrdinalEncoder\r\n",
        "from sklearn.tree import DecisionTreeClassifier\r\n",
        "from sklearn.ensemble import RandomForestClassifier\r\n",
        "from sklearn.impute import SimpleImputer\r\n",
        "import category_encoders as ce\r\n",
        "from sklearn.model_selection import cross_val_score\r\n",
        "\r\n",
        "rf_model = make_pipeline(ce.OrdinalEncoder(),\r\n",
        "                   SimpleImputer(),\r\n",
        "                   RandomForestClassifier(random_state=42))\r\n"
      ],
      "execution_count": 11,
      "outputs": []
    },
    {
      "cell_type": "code",
      "metadata": {
        "id": "ds2XlIQTlUXx"
      },
      "source": [
        "\r\n",
        "rfmodel_cvs = cross_val_score(rf_model, X_train, y_train, cv=5, n_jobs=-1)"
      ],
      "execution_count": 13,
      "outputs": []
    },
    {
      "cell_type": "code",
      "metadata": {
        "id": "ukJBx3wJmNlL",
        "outputId": "37e05e84-1116-494c-bc14-b35a495f77d7",
        "colab": {
          "base_uri": "https://localhost:8080/"
        }
      },
      "source": [
        "print(\"random forest classifier:\")\r\n",
        "print(\"cross validation score series is\", rfmodel_cvs)\r\n",
        "print(\"cross validation score mean is\", rfmodel_cvs.mean())\r\n",
        "print(\"cross validation score standard deviation is\", rfmodel_cvs.std())"
      ],
      "execution_count": 14,
      "outputs": [
        {
          "output_type": "stream",
          "text": [
            "random forest classifier:\n",
            "cross validation score series is [0.80959596 0.80824916 0.80580808 0.80673401 0.80462963]\n",
            "cross validation score mean is 0.807003367003367\n",
            "cross validation score standard deviation is 0.0017555298540375516\n"
          ],
          "name": "stdout"
        }
      ]
    },
    {
      "cell_type": "markdown",
      "metadata": {
        "id": "DhYDpL6smj7P"
      },
      "source": [
        "#IV. Tune Model"
      ]
    },
    {
      "cell_type": "code",
      "metadata": {
        "id": "fZ1xw7jempLR"
      },
      "source": [
        "from sklearn.model_selection import GridSearchCV, RandomizedSearchCV\r\n",
        "import numpy as np\r\n"
      ],
      "execution_count": 15,
      "outputs": []
    },
    {
      "cell_type": "code",
      "metadata": {
        "id": "kZNUUMJumuaa"
      },
      "source": [
        "#setting some hyper-parameters to be modified\r\n",
        "paras = {'randomforestclassifier__n_estimators': np.arange(20, 65, 22), \r\n",
        "         'randomforestclassifier__max_depth': np.arange(10, 31, 10),\r\n",
        "         'randomforestclassifier__max_samples': np.arange(0.3, 0.71, 0.2)}\r\n",
        "\r\n",
        "rf_gs = GridSearchCV(rf_model, paras, cv=5, n_jobs=-1, verbose=1)"
      ],
      "execution_count": 20,
      "outputs": []
    },
    {
      "cell_type": "code",
      "metadata": {
        "id": "1-upeCcbne1D",
        "outputId": "b156bba7-147e-421b-b0d3-ca7ca79aad01",
        "colab": {
          "base_uri": "https://localhost:8080/"
        }
      },
      "source": [
        "rf_gs.fit(X_train, y_train)"
      ],
      "execution_count": 21,
      "outputs": [
        {
          "output_type": "stream",
          "text": [
            "Fitting 5 folds for each of 27 candidates, totalling 135 fits\n"
          ],
          "name": "stdout"
        },
        {
          "output_type": "stream",
          "text": [
            "[Parallel(n_jobs=-1)]: Using backend LokyBackend with 2 concurrent workers.\n",
            "[Parallel(n_jobs=-1)]: Done  46 tasks      | elapsed:  1.8min\n",
            "[Parallel(n_jobs=-1)]: Done 135 out of 135 | elapsed:  6.5min finished\n"
          ],
          "name": "stderr"
        },
        {
          "output_type": "execute_result",
          "data": {
            "text/plain": [
              "GridSearchCV(cv=5, error_score=nan,\n",
              "             estimator=Pipeline(memory=None,\n",
              "                                steps=[('ordinalencoder',\n",
              "                                        OrdinalEncoder(cols=None,\n",
              "                                                       drop_invariant=False,\n",
              "                                                       handle_missing='value',\n",
              "                                                       handle_unknown='value',\n",
              "                                                       mapping=None,\n",
              "                                                       return_df=True,\n",
              "                                                       verbose=0)),\n",
              "                                       ('simpleimputer',\n",
              "                                        SimpleImputer(add_indicator=False,\n",
              "                                                      copy=True,\n",
              "                                                      fill_value=None,\n",
              "                                                      missing_values=nan,\n",
              "                                                      strategy='mean',\n",
              "                                                      verbose=0)),\n",
              "                                       ('ra...\n",
              "                                                               random_state=42,\n",
              "                                                               verbose=0,\n",
              "                                                               warm_start=False))],\n",
              "                                verbose=False),\n",
              "             iid='deprecated', n_jobs=-1,\n",
              "             param_grid={'randomforestclassifier__max_depth': array([10, 20, 30]),\n",
              "                         'randomforestclassifier__max_samples': array([0.3, 0.5, 0.7]),\n",
              "                         'randomforestclassifier__n_estimators': array([20, 42, 64])},\n",
              "             pre_dispatch='2*n_jobs', refit=True, return_train_score=False,\n",
              "             scoring=None, verbose=1)"
            ]
          },
          "metadata": {
            "tags": []
          },
          "execution_count": 21
        }
      ]
    },
    {
      "cell_type": "code",
      "metadata": {
        "id": "CX9hNAy9nwDi",
        "outputId": "356f72ea-ec05-4f3c-c134-aa090cbb735a",
        "colab": {
          "base_uri": "https://localhost:8080/",
          "height": 565
        }
      },
      "source": [
        "pd.DataFrame(rf_gs.cv_results_).sort_values(by='mean_test_score', ascending=False).T"
      ],
      "execution_count": 22,
      "outputs": [
        {
          "output_type": "execute_result",
          "data": {
            "text/html": [
              "<div>\n",
              "<style scoped>\n",
              "    .dataframe tbody tr th:only-of-type {\n",
              "        vertical-align: middle;\n",
              "    }\n",
              "\n",
              "    .dataframe tbody tr th {\n",
              "        vertical-align: top;\n",
              "    }\n",
              "\n",
              "    .dataframe thead th {\n",
              "        text-align: right;\n",
              "    }\n",
              "</style>\n",
              "<table border=\"1\" class=\"dataframe\">\n",
              "  <thead>\n",
              "    <tr style=\"text-align: right;\">\n",
              "      <th></th>\n",
              "      <th>26</th>\n",
              "      <th>17</th>\n",
              "      <th>16</th>\n",
              "      <th>25</th>\n",
              "      <th>23</th>\n",
              "      <th>14</th>\n",
              "      <th>22</th>\n",
              "      <th>13</th>\n",
              "      <th>20</th>\n",
              "      <th>11</th>\n",
              "      <th>15</th>\n",
              "      <th>19</th>\n",
              "      <th>10</th>\n",
              "      <th>24</th>\n",
              "      <th>12</th>\n",
              "      <th>21</th>\n",
              "      <th>9</th>\n",
              "      <th>18</th>\n",
              "      <th>8</th>\n",
              "      <th>5</th>\n",
              "      <th>7</th>\n",
              "      <th>4</th>\n",
              "      <th>6</th>\n",
              "      <th>2</th>\n",
              "      <th>3</th>\n",
              "      <th>1</th>\n",
              "      <th>0</th>\n",
              "    </tr>\n",
              "  </thead>\n",
              "  <tbody>\n",
              "    <tr>\n",
              "      <th>mean_fit_time</th>\n",
              "      <td>10.312</td>\n",
              "      <td>9.84584</td>\n",
              "      <td>6.87575</td>\n",
              "      <td>7.24639</td>\n",
              "      <td>8.56347</td>\n",
              "      <td>8.03116</td>\n",
              "      <td>6.02736</td>\n",
              "      <td>5.68574</td>\n",
              "      <td>6.2223</td>\n",
              "      <td>5.98173</td>\n",
              "      <td>3.83854</td>\n",
              "      <td>4.4995</td>\n",
              "      <td>4.36009</td>\n",
              "      <td>4.12615</td>\n",
              "      <td>3.37063</td>\n",
              "      <td>3.50291</td>\n",
              "      <td>2.72293</td>\n",
              "      <td>2.72087</td>\n",
              "      <td>7.02468</td>\n",
              "      <td>5.76632</td>\n",
              "      <td>4.89332</td>\n",
              "      <td>4.19232</td>\n",
              "      <td>2.95125</td>\n",
              "      <td>4.54014</td>\n",
              "      <td>2.64512</td>\n",
              "      <td>3.43403</td>\n",
              "      <td>2.25096</td>\n",
              "    </tr>\n",
              "    <tr>\n",
              "      <th>std_fit_time</th>\n",
              "      <td>0.574822</td>\n",
              "      <td>0.10227</td>\n",
              "      <td>0.0700995</td>\n",
              "      <td>0.105621</td>\n",
              "      <td>0.139591</td>\n",
              "      <td>0.0882066</td>\n",
              "      <td>0.0969921</td>\n",
              "      <td>0.0481937</td>\n",
              "      <td>0.0689739</td>\n",
              "      <td>0.0510735</td>\n",
              "      <td>0.0711767</td>\n",
              "      <td>0.0353335</td>\n",
              "      <td>0.055479</td>\n",
              "      <td>0.0834412</td>\n",
              "      <td>0.05755</td>\n",
              "      <td>0.0435498</td>\n",
              "      <td>0.0234612</td>\n",
              "      <td>0.0412382</td>\n",
              "      <td>0.0791371</td>\n",
              "      <td>0.0499826</td>\n",
              "      <td>0.0542196</td>\n",
              "      <td>0.0819824</td>\n",
              "      <td>0.0375367</td>\n",
              "      <td>0.0855142</td>\n",
              "      <td>0.08026</td>\n",
              "      <td>0.0364709</td>\n",
              "      <td>0.0679607</td>\n",
              "    </tr>\n",
              "    <tr>\n",
              "      <th>mean_score_time</th>\n",
              "      <td>0.397061</td>\n",
              "      <td>0.387976</td>\n",
              "      <td>0.352625</td>\n",
              "      <td>0.339467</td>\n",
              "      <td>0.409287</td>\n",
              "      <td>0.38174</td>\n",
              "      <td>0.303286</td>\n",
              "      <td>0.288107</td>\n",
              "      <td>0.367797</td>\n",
              "      <td>0.362775</td>\n",
              "      <td>0.243695</td>\n",
              "      <td>0.299078</td>\n",
              "      <td>0.300438</td>\n",
              "      <td>0.237897</td>\n",
              "      <td>0.215961</td>\n",
              "      <td>0.219164</td>\n",
              "      <td>0.237263</td>\n",
              "      <td>0.248459</td>\n",
              "      <td>0.2928</td>\n",
              "      <td>0.263177</td>\n",
              "      <td>0.230238</td>\n",
              "      <td>0.223912</td>\n",
              "      <td>0.186679</td>\n",
              "      <td>0.270676</td>\n",
              "      <td>0.182151</td>\n",
              "      <td>0.229526</td>\n",
              "      <td>0.196209</td>\n",
              "    </tr>\n",
              "    <tr>\n",
              "      <th>std_score_time</th>\n",
              "      <td>0.0506361</td>\n",
              "      <td>0.0323267</td>\n",
              "      <td>0.055166</td>\n",
              "      <td>0.0257794</td>\n",
              "      <td>0.0350918</td>\n",
              "      <td>0.0338588</td>\n",
              "      <td>0.0107408</td>\n",
              "      <td>0.00972042</td>\n",
              "      <td>0.0158958</td>\n",
              "      <td>0.0137676</td>\n",
              "      <td>0.030109</td>\n",
              "      <td>0.00979818</td>\n",
              "      <td>0.0284343</td>\n",
              "      <td>0.0147759</td>\n",
              "      <td>0.0103289</td>\n",
              "      <td>0.00247101</td>\n",
              "      <td>0.0511995</td>\n",
              "      <td>0.0391505</td>\n",
              "      <td>0.0413646</td>\n",
              "      <td>0.0059982</td>\n",
              "      <td>0.0116861</td>\n",
              "      <td>0.0065677</td>\n",
              "      <td>0.0048925</td>\n",
              "      <td>0.0141831</td>\n",
              "      <td>0.00696172</td>\n",
              "      <td>0.00947787</td>\n",
              "      <td>0.0241855</td>\n",
              "    </tr>\n",
              "    <tr>\n",
              "      <th>param_randomforestclassifier__max_depth</th>\n",
              "      <td>30</td>\n",
              "      <td>20</td>\n",
              "      <td>20</td>\n",
              "      <td>30</td>\n",
              "      <td>30</td>\n",
              "      <td>20</td>\n",
              "      <td>30</td>\n",
              "      <td>20</td>\n",
              "      <td>30</td>\n",
              "      <td>20</td>\n",
              "      <td>20</td>\n",
              "      <td>30</td>\n",
              "      <td>20</td>\n",
              "      <td>30</td>\n",
              "      <td>20</td>\n",
              "      <td>30</td>\n",
              "      <td>20</td>\n",
              "      <td>30</td>\n",
              "      <td>10</td>\n",
              "      <td>10</td>\n",
              "      <td>10</td>\n",
              "      <td>10</td>\n",
              "      <td>10</td>\n",
              "      <td>10</td>\n",
              "      <td>10</td>\n",
              "      <td>10</td>\n",
              "      <td>10</td>\n",
              "    </tr>\n",
              "    <tr>\n",
              "      <th>param_randomforestclassifier__max_samples</th>\n",
              "      <td>0.7</td>\n",
              "      <td>0.7</td>\n",
              "      <td>0.7</td>\n",
              "      <td>0.7</td>\n",
              "      <td>0.5</td>\n",
              "      <td>0.5</td>\n",
              "      <td>0.5</td>\n",
              "      <td>0.5</td>\n",
              "      <td>0.3</td>\n",
              "      <td>0.3</td>\n",
              "      <td>0.7</td>\n",
              "      <td>0.3</td>\n",
              "      <td>0.3</td>\n",
              "      <td>0.7</td>\n",
              "      <td>0.5</td>\n",
              "      <td>0.5</td>\n",
              "      <td>0.3</td>\n",
              "      <td>0.3</td>\n",
              "      <td>0.7</td>\n",
              "      <td>0.5</td>\n",
              "      <td>0.7</td>\n",
              "      <td>0.5</td>\n",
              "      <td>0.7</td>\n",
              "      <td>0.3</td>\n",
              "      <td>0.5</td>\n",
              "      <td>0.3</td>\n",
              "      <td>0.3</td>\n",
              "    </tr>\n",
              "    <tr>\n",
              "      <th>param_randomforestclassifier__n_estimators</th>\n",
              "      <td>64</td>\n",
              "      <td>64</td>\n",
              "      <td>42</td>\n",
              "      <td>42</td>\n",
              "      <td>64</td>\n",
              "      <td>64</td>\n",
              "      <td>42</td>\n",
              "      <td>42</td>\n",
              "      <td>64</td>\n",
              "      <td>64</td>\n",
              "      <td>20</td>\n",
              "      <td>42</td>\n",
              "      <td>42</td>\n",
              "      <td>20</td>\n",
              "      <td>20</td>\n",
              "      <td>20</td>\n",
              "      <td>20</td>\n",
              "      <td>20</td>\n",
              "      <td>64</td>\n",
              "      <td>64</td>\n",
              "      <td>42</td>\n",
              "      <td>42</td>\n",
              "      <td>20</td>\n",
              "      <td>64</td>\n",
              "      <td>20</td>\n",
              "      <td>42</td>\n",
              "      <td>20</td>\n",
              "    </tr>\n",
              "    <tr>\n",
              "      <th>params</th>\n",
              "      <td>{'randomforestclassifier__max_depth': 30, 'ran...</td>\n",
              "      <td>{'randomforestclassifier__max_depth': 20, 'ran...</td>\n",
              "      <td>{'randomforestclassifier__max_depth': 20, 'ran...</td>\n",
              "      <td>{'randomforestclassifier__max_depth': 30, 'ran...</td>\n",
              "      <td>{'randomforestclassifier__max_depth': 30, 'ran...</td>\n",
              "      <td>{'randomforestclassifier__max_depth': 20, 'ran...</td>\n",
              "      <td>{'randomforestclassifier__max_depth': 30, 'ran...</td>\n",
              "      <td>{'randomforestclassifier__max_depth': 20, 'ran...</td>\n",
              "      <td>{'randomforestclassifier__max_depth': 30, 'ran...</td>\n",
              "      <td>{'randomforestclassifier__max_depth': 20, 'ran...</td>\n",
              "      <td>{'randomforestclassifier__max_depth': 20, 'ran...</td>\n",
              "      <td>{'randomforestclassifier__max_depth': 30, 'ran...</td>\n",
              "      <td>{'randomforestclassifier__max_depth': 20, 'ran...</td>\n",
              "      <td>{'randomforestclassifier__max_depth': 30, 'ran...</td>\n",
              "      <td>{'randomforestclassifier__max_depth': 20, 'ran...</td>\n",
              "      <td>{'randomforestclassifier__max_depth': 30, 'ran...</td>\n",
              "      <td>{'randomforestclassifier__max_depth': 20, 'ran...</td>\n",
              "      <td>{'randomforestclassifier__max_depth': 30, 'ran...</td>\n",
              "      <td>{'randomforestclassifier__max_depth': 10, 'ran...</td>\n",
              "      <td>{'randomforestclassifier__max_depth': 10, 'ran...</td>\n",
              "      <td>{'randomforestclassifier__max_depth': 10, 'ran...</td>\n",
              "      <td>{'randomforestclassifier__max_depth': 10, 'ran...</td>\n",
              "      <td>{'randomforestclassifier__max_depth': 10, 'ran...</td>\n",
              "      <td>{'randomforestclassifier__max_depth': 10, 'ran...</td>\n",
              "      <td>{'randomforestclassifier__max_depth': 10, 'ran...</td>\n",
              "      <td>{'randomforestclassifier__max_depth': 10, 'ran...</td>\n",
              "      <td>{'randomforestclassifier__max_depth': 10, 'ran...</td>\n",
              "    </tr>\n",
              "    <tr>\n",
              "      <th>split0_test_score</th>\n",
              "      <td>0.814141</td>\n",
              "      <td>0.814646</td>\n",
              "      <td>0.811869</td>\n",
              "      <td>0.811953</td>\n",
              "      <td>0.81532</td>\n",
              "      <td>0.809428</td>\n",
              "      <td>0.811616</td>\n",
              "      <td>0.807323</td>\n",
              "      <td>0.809091</td>\n",
              "      <td>0.808923</td>\n",
              "      <td>0.803367</td>\n",
              "      <td>0.805303</td>\n",
              "      <td>0.80463</td>\n",
              "      <td>0.800589</td>\n",
              "      <td>0.799495</td>\n",
              "      <td>0.802273</td>\n",
              "      <td>0.796296</td>\n",
              "      <td>0.794108</td>\n",
              "      <td>0.774495</td>\n",
              "      <td>0.772306</td>\n",
              "      <td>0.772222</td>\n",
              "      <td>0.771296</td>\n",
              "      <td>0.76936</td>\n",
              "      <td>0.769697</td>\n",
              "      <td>0.768939</td>\n",
              "      <td>0.767088</td>\n",
              "      <td>0.764394</td>\n",
              "    </tr>\n",
              "    <tr>\n",
              "      <th>split1_test_score</th>\n",
              "      <td>0.809343</td>\n",
              "      <td>0.808418</td>\n",
              "      <td>0.805303</td>\n",
              "      <td>0.808165</td>\n",
              "      <td>0.804882</td>\n",
              "      <td>0.806734</td>\n",
              "      <td>0.803872</td>\n",
              "      <td>0.803199</td>\n",
              "      <td>0.800337</td>\n",
              "      <td>0.800758</td>\n",
              "      <td>0.802862</td>\n",
              "      <td>0.799158</td>\n",
              "      <td>0.798485</td>\n",
              "      <td>0.796465</td>\n",
              "      <td>0.794781</td>\n",
              "      <td>0.796128</td>\n",
              "      <td>0.79234</td>\n",
              "      <td>0.793182</td>\n",
              "      <td>0.756734</td>\n",
              "      <td>0.758586</td>\n",
              "      <td>0.755135</td>\n",
              "      <td>0.756818</td>\n",
              "      <td>0.756818</td>\n",
              "      <td>0.756061</td>\n",
              "      <td>0.754377</td>\n",
              "      <td>0.752357</td>\n",
              "      <td>0.757323</td>\n",
              "    </tr>\n",
              "    <tr>\n",
              "      <th>split2_test_score</th>\n",
              "      <td>0.808838</td>\n",
              "      <td>0.810354</td>\n",
              "      <td>0.810354</td>\n",
              "      <td>0.808586</td>\n",
              "      <td>0.805219</td>\n",
              "      <td>0.80766</td>\n",
              "      <td>0.80303</td>\n",
              "      <td>0.805219</td>\n",
              "      <td>0.805556</td>\n",
              "      <td>0.805724</td>\n",
              "      <td>0.805303</td>\n",
              "      <td>0.802357</td>\n",
              "      <td>0.804125</td>\n",
              "      <td>0.801431</td>\n",
              "      <td>0.801094</td>\n",
              "      <td>0.797811</td>\n",
              "      <td>0.794192</td>\n",
              "      <td>0.795286</td>\n",
              "      <td>0.761616</td>\n",
              "      <td>0.760017</td>\n",
              "      <td>0.761364</td>\n",
              "      <td>0.759933</td>\n",
              "      <td>0.758923</td>\n",
              "      <td>0.759512</td>\n",
              "      <td>0.757912</td>\n",
              "      <td>0.759007</td>\n",
              "      <td>0.758754</td>\n",
              "    </tr>\n",
              "    <tr>\n",
              "      <th>split3_test_score</th>\n",
              "      <td>0.807912</td>\n",
              "      <td>0.808923</td>\n",
              "      <td>0.806818</td>\n",
              "      <td>0.802946</td>\n",
              "      <td>0.806313</td>\n",
              "      <td>0.805892</td>\n",
              "      <td>0.804714</td>\n",
              "      <td>0.802694</td>\n",
              "      <td>0.798906</td>\n",
              "      <td>0.800673</td>\n",
              "      <td>0.802104</td>\n",
              "      <td>0.795707</td>\n",
              "      <td>0.795875</td>\n",
              "      <td>0.8</td>\n",
              "      <td>0.797643</td>\n",
              "      <td>0.79537</td>\n",
              "      <td>0.794276</td>\n",
              "      <td>0.791919</td>\n",
              "      <td>0.759007</td>\n",
              "      <td>0.755219</td>\n",
              "      <td>0.757071</td>\n",
              "      <td>0.755892</td>\n",
              "      <td>0.758418</td>\n",
              "      <td>0.755219</td>\n",
              "      <td>0.752104</td>\n",
              "      <td>0.752862</td>\n",
              "      <td>0.750421</td>\n",
              "    </tr>\n",
              "    <tr>\n",
              "      <th>split4_test_score</th>\n",
              "      <td>0.810606</td>\n",
              "      <td>0.808081</td>\n",
              "      <td>0.808418</td>\n",
              "      <td>0.808502</td>\n",
              "      <td>0.808081</td>\n",
              "      <td>0.807407</td>\n",
              "      <td>0.803956</td>\n",
              "      <td>0.803956</td>\n",
              "      <td>0.804461</td>\n",
              "      <td>0.801768</td>\n",
              "      <td>0.800673</td>\n",
              "      <td>0.801263</td>\n",
              "      <td>0.799327</td>\n",
              "      <td>0.799495</td>\n",
              "      <td>0.79899</td>\n",
              "      <td>0.798401</td>\n",
              "      <td>0.792845</td>\n",
              "      <td>0.79335</td>\n",
              "      <td>0.765152</td>\n",
              "      <td>0.764815</td>\n",
              "      <td>0.763552</td>\n",
              "      <td>0.764815</td>\n",
              "      <td>0.764899</td>\n",
              "      <td>0.763889</td>\n",
              "      <td>0.764731</td>\n",
              "      <td>0.763468</td>\n",
              "      <td>0.758838</td>\n",
              "    </tr>\n",
              "    <tr>\n",
              "      <th>mean_test_score</th>\n",
              "      <td>0.810168</td>\n",
              "      <td>0.810084</td>\n",
              "      <td>0.808552</td>\n",
              "      <td>0.80803</td>\n",
              "      <td>0.807963</td>\n",
              "      <td>0.807424</td>\n",
              "      <td>0.805438</td>\n",
              "      <td>0.804478</td>\n",
              "      <td>0.80367</td>\n",
              "      <td>0.803569</td>\n",
              "      <td>0.802862</td>\n",
              "      <td>0.800758</td>\n",
              "      <td>0.800488</td>\n",
              "      <td>0.799596</td>\n",
              "      <td>0.798401</td>\n",
              "      <td>0.797997</td>\n",
              "      <td>0.79399</td>\n",
              "      <td>0.793569</td>\n",
              "      <td>0.763401</td>\n",
              "      <td>0.762189</td>\n",
              "      <td>0.761869</td>\n",
              "      <td>0.761751</td>\n",
              "      <td>0.761684</td>\n",
              "      <td>0.760875</td>\n",
              "      <td>0.759613</td>\n",
              "      <td>0.758956</td>\n",
              "      <td>0.757946</td>\n",
              "    </tr>\n",
              "    <tr>\n",
              "      <th>std_test_score</th>\n",
              "      <td>0.00216865</td>\n",
              "      <td>0.00240947</td>\n",
              "      <td>0.00235907</td>\n",
              "      <td>0.00289082</td>\n",
              "      <td>0.00384399</td>\n",
              "      <td>0.00117411</td>\n",
              "      <td>0.00313493</td>\n",
              "      <td>0.00165754</td>\n",
              "      <td>0.00367088</td>\n",
              "      <td>0.00325077</td>\n",
              "      <td>0.00152168</td>\n",
              "      <td>0.00321059</td>\n",
              "      <td>0.00337684</td>\n",
              "      <td>0.00169307</td>\n",
              "      <td>0.00212014</td>\n",
              "      <td>0.00240299</td>\n",
              "      <td>0.00137657</td>\n",
              "      <td>0.00110983</td>\n",
              "      <td>0.00621424</td>\n",
              "      <td>0.00592521</td>\n",
              "      <td>0.0059775</td>\n",
              "      <td>0.00570024</td>\n",
              "      <td>0.00471663</td>\n",
              "      <td>0.00536543</td>\n",
              "      <td>0.00632231</td>\n",
              "      <td>0.00578218</td>\n",
              "      <td>0.00447305</td>\n",
              "    </tr>\n",
              "    <tr>\n",
              "      <th>rank_test_score</th>\n",
              "      <td>1</td>\n",
              "      <td>2</td>\n",
              "      <td>3</td>\n",
              "      <td>4</td>\n",
              "      <td>5</td>\n",
              "      <td>6</td>\n",
              "      <td>7</td>\n",
              "      <td>8</td>\n",
              "      <td>9</td>\n",
              "      <td>10</td>\n",
              "      <td>11</td>\n",
              "      <td>12</td>\n",
              "      <td>13</td>\n",
              "      <td>14</td>\n",
              "      <td>15</td>\n",
              "      <td>16</td>\n",
              "      <td>17</td>\n",
              "      <td>18</td>\n",
              "      <td>19</td>\n",
              "      <td>20</td>\n",
              "      <td>21</td>\n",
              "      <td>22</td>\n",
              "      <td>23</td>\n",
              "      <td>24</td>\n",
              "      <td>25</td>\n",
              "      <td>26</td>\n",
              "      <td>27</td>\n",
              "    </tr>\n",
              "  </tbody>\n",
              "</table>\n",
              "</div>"
            ],
            "text/plain": [
              "                                                                                           26  ...                                                 0 \n",
              "mean_fit_time                                                                          10.312  ...                                            2.25096\n",
              "std_fit_time                                                                         0.574822  ...                                          0.0679607\n",
              "mean_score_time                                                                      0.397061  ...                                           0.196209\n",
              "std_score_time                                                                      0.0506361  ...                                          0.0241855\n",
              "param_randomforestclassifier__max_depth                                                    30  ...                                                 10\n",
              "param_randomforestclassifier__max_samples                                                 0.7  ...                                                0.3\n",
              "param_randomforestclassifier__n_estimators                                                 64  ...                                                 20\n",
              "params                                      {'randomforestclassifier__max_depth': 30, 'ran...  ...  {'randomforestclassifier__max_depth': 10, 'ran...\n",
              "split0_test_score                                                                    0.814141  ...                                           0.764394\n",
              "split1_test_score                                                                    0.809343  ...                                           0.757323\n",
              "split2_test_score                                                                    0.808838  ...                                           0.758754\n",
              "split3_test_score                                                                    0.807912  ...                                           0.750421\n",
              "split4_test_score                                                                    0.810606  ...                                           0.758838\n",
              "mean_test_score                                                                      0.810168  ...                                           0.757946\n",
              "std_test_score                                                                     0.00216865  ...                                         0.00447305\n",
              "rank_test_score                                                                             1  ...                                                 27\n",
              "\n",
              "[16 rows x 27 columns]"
            ]
          },
          "metadata": {
            "tags": []
          },
          "execution_count": 22
        }
      ]
    },
    {
      "cell_type": "code",
      "metadata": {
        "id": "OnaCxxRNpUnR",
        "outputId": "76cf95cb-2c4a-4f43-cf55-b253f37bd51d",
        "colab": {
          "base_uri": "https://localhost:8080/"
        }
      },
      "source": [
        "rf_gs.best_estimator_"
      ],
      "execution_count": 23,
      "outputs": [
        {
          "output_type": "execute_result",
          "data": {
            "text/plain": [
              "Pipeline(memory=None,\n",
              "         steps=[('ordinalencoder',\n",
              "                 OrdinalEncoder(cols=['funder', 'installer', 'wpt_name',\n",
              "                                      'basin', 'subvillage', 'region', 'lga',\n",
              "                                      'ward', 'public_meeting',\n",
              "                                      'scheme_management', 'scheme_name',\n",
              "                                      'permit', 'extraction_type',\n",
              "                                      'extraction_type_group',\n",
              "                                      'extraction_type_class', 'management',\n",
              "                                      'management_group', 'payment',\n",
              "                                      'payment_type', 'water_quality',\n",
              "                                      'quality_...\n",
              "                 RandomForestClassifier(bootstrap=True, ccp_alpha=0.0,\n",
              "                                        class_weight=None, criterion='gini',\n",
              "                                        max_depth=30, max_features='auto',\n",
              "                                        max_leaf_nodes=None, max_samples=0.7,\n",
              "                                        min_impurity_decrease=0.0,\n",
              "                                        min_impurity_split=None,\n",
              "                                        min_samples_leaf=1, min_samples_split=2,\n",
              "                                        min_weight_fraction_leaf=0.0,\n",
              "                                        n_estimators=64, n_jobs=None,\n",
              "                                        oob_score=False, random_state=42,\n",
              "                                        verbose=0, warm_start=False))],\n",
              "         verbose=False)"
            ]
          },
          "metadata": {
            "tags": []
          },
          "execution_count": 23
        }
      ]
    },
    {
      "cell_type": "code",
      "metadata": {
        "id": "2W136HYVpY4w",
        "outputId": "702f9d96-d5ae-4309-d932-f3ada6d7d51e",
        "colab": {
          "base_uri": "https://localhost:8080/"
        }
      },
      "source": [
        "rf_gs.best_score_"
      ],
      "execution_count": 24,
      "outputs": [
        {
          "output_type": "execute_result",
          "data": {
            "text/plain": [
              "0.8101683501683501"
            ]
          },
          "metadata": {
            "tags": []
          },
          "execution_count": 24
        }
      ]
    },
    {
      "cell_type": "code",
      "metadata": {
        "id": "pjhspr7gpaXK",
        "outputId": "dbf774aa-b07a-497d-97cf-c3ee2b08313c",
        "colab": {
          "base_uri": "https://localhost:8080/"
        }
      },
      "source": [
        "rf_gs.best_params_"
      ],
      "execution_count": 25,
      "outputs": [
        {
          "output_type": "execute_result",
          "data": {
            "text/plain": [
              "{'randomforestclassifier__max_depth': 30,\n",
              " 'randomforestclassifier__max_samples': 0.7,\n",
              " 'randomforestclassifier__n_estimators': 64}"
            ]
          },
          "metadata": {
            "tags": []
          },
          "execution_count": 25
        }
      ]
    },
    {
      "cell_type": "code",
      "metadata": {
        "id": "6HjuA6t2rB1T"
      },
      "source": [
        "#Let's try the same with randomized search\r\n"
      ],
      "execution_count": null,
      "outputs": []
    },
    {
      "cell_type": "code",
      "metadata": {
        "id": "Fg4_QexxrGRQ"
      },
      "source": [
        "rf_rs = RandomizedSearchCV(rf_model, param_distributions=paras, n_iter=3, cv=5, n_jobs=-1, verbose=1)"
      ],
      "execution_count": 26,
      "outputs": []
    },
    {
      "cell_type": "code",
      "metadata": {
        "id": "o2Fnm4tXrKdB",
        "outputId": "b263d030-503e-4cf9-aa0d-14c1ee8dbbab",
        "colab": {
          "base_uri": "https://localhost:8080/"
        }
      },
      "source": [
        "rf_rs.fit(X_train, y_train)"
      ],
      "execution_count": 27,
      "outputs": [
        {
          "output_type": "stream",
          "text": [
            "Fitting 5 folds for each of 3 candidates, totalling 15 fits\n"
          ],
          "name": "stdout"
        },
        {
          "output_type": "stream",
          "text": [
            "[Parallel(n_jobs=-1)]: Using backend LokyBackend with 2 concurrent workers.\n",
            "[Parallel(n_jobs=-1)]: Done  15 out of  15 | elapsed:   44.9s finished\n"
          ],
          "name": "stderr"
        },
        {
          "output_type": "execute_result",
          "data": {
            "text/plain": [
              "RandomizedSearchCV(cv=5, error_score=nan,\n",
              "                   estimator=Pipeline(memory=None,\n",
              "                                      steps=[('ordinalencoder',\n",
              "                                              OrdinalEncoder(cols=None,\n",
              "                                                             drop_invariant=False,\n",
              "                                                             handle_missing='value',\n",
              "                                                             handle_unknown='value',\n",
              "                                                             mapping=None,\n",
              "                                                             return_df=True,\n",
              "                                                             verbose=0)),\n",
              "                                             ('simpleimputer',\n",
              "                                              SimpleImputer(add_indicator=False,\n",
              "                                                            copy=True,\n",
              "                                                            fill_value=None,\n",
              "                                                            missing_values=nan,\n",
              "                                                            strategy='mean',\n",
              "                                                            verbose=0)...\n",
              "                                                                     warm_start=False))],\n",
              "                                      verbose=False),\n",
              "                   iid='deprecated', n_iter=3, n_jobs=-1,\n",
              "                   param_distributions={'randomforestclassifier__max_depth': array([10, 20, 30]),\n",
              "                                        'randomforestclassifier__max_samples': array([0.3, 0.5, 0.7]),\n",
              "                                        'randomforestclassifier__n_estimators': array([20, 42, 64])},\n",
              "                   pre_dispatch='2*n_jobs', random_state=None, refit=True,\n",
              "                   return_train_score=False, scoring=None, verbose=1)"
            ]
          },
          "metadata": {
            "tags": []
          },
          "execution_count": 27
        }
      ]
    },
    {
      "cell_type": "code",
      "metadata": {
        "id": "iVD_xJNJrO7E",
        "outputId": "805fff17-279b-4b0e-ae73-1bd36daff219",
        "colab": {
          "base_uri": "https://localhost:8080/"
        }
      },
      "source": [
        "rf_rs.best_score_"
      ],
      "execution_count": 28,
      "outputs": [
        {
          "output_type": "execute_result",
          "data": {
            "text/plain": [
              "0.8054377104377103"
            ]
          },
          "metadata": {
            "tags": []
          },
          "execution_count": 28
        }
      ]
    },
    {
      "cell_type": "code",
      "metadata": {
        "id": "bkljdaj6riKy"
      },
      "source": [
        "#Lower than our grid search, but much faster"
      ],
      "execution_count": null,
      "outputs": []
    },
    {
      "cell_type": "markdown",
      "metadata": {
        "id": "JbCYtSUyrqpn"
      },
      "source": [
        "#V. Visualize"
      ]
    },
    {
      "cell_type": "code",
      "metadata": {
        "id": "NcLPuFMsrmm6",
        "outputId": "db23ae50-a7c6-4313-90c0-4a31de717982",
        "colab": {
          "base_uri": "https://localhost:8080/",
          "height": 283
        }
      },
      "source": [
        "importances = rf_gs.best_estimator_.named_steps['randomforestclassifier'].feature_importances_\r\n",
        "features = X_train.columns\r\n",
        "pd.Series(importances, index=features).sort_values().tail(10).plot(kind='barh')"
      ],
      "execution_count": 31,
      "outputs": [
        {
          "output_type": "execute_result",
          "data": {
            "text/plain": [
              "<matplotlib.axes._subplots.AxesSubplot at 0x7f7d0b24aa58>"
            ]
          },
          "metadata": {
            "tags": []
          },
          "execution_count": 31
        },
        {
          "output_type": "display_data",
          "data": {
            "image/png": "[encoded data removed]",
            "text/plain": [
              "<Figure size 432x288 with 1 Axes>"
            ]
          },
          "metadata": {
            "tags": [],
            "needs_background": "light"
          }
        }
      ]
    },
    {
      "cell_type": "markdown",
      "metadata": {
        "id": "1J_yBMHqsnm3"
      },
      "source": [
        "#VI. Kaggle"
      ]
    },
    {
      "cell_type": "code",
      "metadata": {
        "id": "kq7IpC-htNoi"
      },
      "source": [
        "y_pred = rf_gs.predict(X_test)"
      ],
      "execution_count": null,
      "outputs": []
    },
    {
      "cell_type": "code",
      "metadata": {
        "id": "L-6_Joh1spim",
        "outputId": "bcb0b193-b0b9-4aa6-f174-e936c3aca4e6",
        "colab": {
          "base_uri": "https://localhost:8080/",
          "height": 467
        }
      },
      "source": [
        "import pandas as pd\r\n",
        " \r\n",
        "# Filenames of your submissions you want to ensemble\r\n",
        "files = ['submission-01.csv', 'submission-02.csv', 'submission-03.csv']\r\n",
        " \r\n",
        "target = 'status_group'\r\n",
        "submissions = (pd.read_csv(file)[[target]] for file in files)\r\n",
        "ensemble = pd.concat(submissions, axis='columns')\r\n",
        "majority_vote = ensemble.mode(axis='columns')[0]\r\n",
        " \r\n",
        "sample_submission = pd.read_csv('sample_submission.csv')\r\n",
        "submission = sample_submission.copy()\r\n",
        "submission[target] = majority_vote\r\n",
        "submission.to_csv('my-ultimate-ensemble-submission.csv', index=False)"
      ],
      "execution_count": 32,
      "outputs": [
        {
          "output_type": "error",
          "ename": "FileNotFoundError",
          "evalue": "ignored",
          "traceback": [
            "\u001b[0;31m---------------------------------------------------------------------------\u001b[0m",
            "\u001b[0;31mFileNotFoundError\u001b[0m                         Traceback (most recent call last)",
            "\u001b[0;32m<ipython-input-32-36a543a7a13f>\u001b[0m in \u001b[0;36m<module>\u001b[0;34m()\u001b[0m\n\u001b[1;32m      6\u001b[0m \u001b[0mtarget\u001b[0m \u001b[0;34m=\u001b[0m \u001b[0;34m'status_group'\u001b[0m\u001b[0;34m\u001b[0m\u001b[0;34m\u001b[0m\u001b[0m\n\u001b[1;32m      7\u001b[0m \u001b[0msubmissions\u001b[0m \u001b[0;34m=\u001b[0m \u001b[0;34m(\u001b[0m\u001b[0mpd\u001b[0m\u001b[0;34m.\u001b[0m\u001b[0mread_csv\u001b[0m\u001b[0;34m(\u001b[0m\u001b[0mfile\u001b[0m\u001b[0;34m)\u001b[0m\u001b[0;34m[\u001b[0m\u001b[0;34m[\u001b[0m\u001b[0mtarget\u001b[0m\u001b[0;34m]\u001b[0m\u001b[0;34m]\u001b[0m \u001b[0;32mfor\u001b[0m \u001b[0mfile\u001b[0m \u001b[0;32min\u001b[0m \u001b[0mfiles\u001b[0m\u001b[0;34m)\u001b[0m\u001b[0;34m\u001b[0m\u001b[0;34m\u001b[0m\u001b[0m\n\u001b[0;32m----> 8\u001b[0;31m \u001b[0mensemble\u001b[0m \u001b[0;34m=\u001b[0m \u001b[0mpd\u001b[0m\u001b[0;34m.\u001b[0m\u001b[0mconcat\u001b[0m\u001b[0;34m(\u001b[0m\u001b[0msubmissions\u001b[0m\u001b[0;34m,\u001b[0m \u001b[0maxis\u001b[0m\u001b[0;34m=\u001b[0m\u001b[0;34m'columns'\u001b[0m\u001b[0;34m)\u001b[0m\u001b[0;34m\u001b[0m\u001b[0;34m\u001b[0m\u001b[0m\n\u001b[0m\u001b[1;32m      9\u001b[0m \u001b[0mmajority_vote\u001b[0m \u001b[0;34m=\u001b[0m \u001b[0mensemble\u001b[0m\u001b[0;34m.\u001b[0m\u001b[0mmode\u001b[0m\u001b[0;34m(\u001b[0m\u001b[0maxis\u001b[0m\u001b[0;34m=\u001b[0m\u001b[0;34m'columns'\u001b[0m\u001b[0;34m)\u001b[0m\u001b[0;34m[\u001b[0m\u001b[0;36m0\u001b[0m\u001b[0;34m]\u001b[0m\u001b[0;34m\u001b[0m\u001b[0;34m\u001b[0m\u001b[0m\n\u001b[1;32m     10\u001b[0m \u001b[0;34m\u001b[0m\u001b[0m\n",
            "\u001b[0;32m/usr/local/lib/python3.6/dist-packages/pandas/core/reshape/concat.py\u001b[0m in \u001b[0;36mconcat\u001b[0;34m(objs, axis, join, ignore_index, keys, levels, names, verify_integrity, sort, copy)\u001b[0m\n\u001b[1;32m    282\u001b[0m         \u001b[0mverify_integrity\u001b[0m\u001b[0;34m=\u001b[0m\u001b[0mverify_integrity\u001b[0m\u001b[0;34m,\u001b[0m\u001b[0;34m\u001b[0m\u001b[0;34m\u001b[0m\u001b[0m\n\u001b[1;32m    283\u001b[0m         \u001b[0mcopy\u001b[0m\u001b[0;34m=\u001b[0m\u001b[0mcopy\u001b[0m\u001b[0;34m,\u001b[0m\u001b[0;34m\u001b[0m\u001b[0;34m\u001b[0m\u001b[0m\n\u001b[0;32m--> 284\u001b[0;31m         \u001b[0msort\u001b[0m\u001b[0;34m=\u001b[0m\u001b[0msort\u001b[0m\u001b[0;34m,\u001b[0m\u001b[0;34m\u001b[0m\u001b[0;34m\u001b[0m\u001b[0m\n\u001b[0m\u001b[1;32m    285\u001b[0m     )\n\u001b[1;32m    286\u001b[0m \u001b[0;34m\u001b[0m\u001b[0m\n",
            "\u001b[0;32m/usr/local/lib/python3.6/dist-packages/pandas/core/reshape/concat.py\u001b[0m in \u001b[0;36m__init__\u001b[0;34m(self, objs, axis, join, keys, levels, names, ignore_index, verify_integrity, copy, sort)\u001b[0m\n\u001b[1;32m    326\u001b[0m             \u001b[0mobjs\u001b[0m \u001b[0;34m=\u001b[0m \u001b[0;34m[\u001b[0m\u001b[0mobjs\u001b[0m\u001b[0;34m[\u001b[0m\u001b[0mk\u001b[0m\u001b[0;34m]\u001b[0m \u001b[0;32mfor\u001b[0m \u001b[0mk\u001b[0m \u001b[0;32min\u001b[0m \u001b[0mkeys\u001b[0m\u001b[0;34m]\u001b[0m\u001b[0;34m\u001b[0m\u001b[0;34m\u001b[0m\u001b[0m\n\u001b[1;32m    327\u001b[0m         \u001b[0;32melse\u001b[0m\u001b[0;34m:\u001b[0m\u001b[0;34m\u001b[0m\u001b[0;34m\u001b[0m\u001b[0m\n\u001b[0;32m--> 328\u001b[0;31m             \u001b[0mobjs\u001b[0m \u001b[0;34m=\u001b[0m \u001b[0mlist\u001b[0m\u001b[0;34m(\u001b[0m\u001b[0mobjs\u001b[0m\u001b[0;34m)\u001b[0m\u001b[0;34m\u001b[0m\u001b[0;34m\u001b[0m\u001b[0m\n\u001b[0m\u001b[1;32m    329\u001b[0m \u001b[0;34m\u001b[0m\u001b[0m\n\u001b[1;32m    330\u001b[0m         \u001b[0;32mif\u001b[0m \u001b[0mlen\u001b[0m\u001b[0;34m(\u001b[0m\u001b[0mobjs\u001b[0m\u001b[0;34m)\u001b[0m \u001b[0;34m==\u001b[0m \u001b[0;36m0\u001b[0m\u001b[0;34m:\u001b[0m\u001b[0;34m\u001b[0m\u001b[0;34m\u001b[0m\u001b[0m\n",
            "\u001b[0;32m<ipython-input-32-36a543a7a13f>\u001b[0m in \u001b[0;36m<genexpr>\u001b[0;34m(.0)\u001b[0m\n\u001b[1;32m      5\u001b[0m \u001b[0;34m\u001b[0m\u001b[0m\n\u001b[1;32m      6\u001b[0m \u001b[0mtarget\u001b[0m \u001b[0;34m=\u001b[0m \u001b[0;34m'status_group'\u001b[0m\u001b[0;34m\u001b[0m\u001b[0;34m\u001b[0m\u001b[0m\n\u001b[0;32m----> 7\u001b[0;31m \u001b[0msubmissions\u001b[0m \u001b[0;34m=\u001b[0m \u001b[0;34m(\u001b[0m\u001b[0mpd\u001b[0m\u001b[0;34m.\u001b[0m\u001b[0mread_csv\u001b[0m\u001b[0;34m(\u001b[0m\u001b[0mfile\u001b[0m\u001b[0;34m)\u001b[0m\u001b[0;34m[\u001b[0m\u001b[0;34m[\u001b[0m\u001b[0mtarget\u001b[0m\u001b[0;34m]\u001b[0m\u001b[0;34m]\u001b[0m \u001b[0;32mfor\u001b[0m \u001b[0mfile\u001b[0m \u001b[0;32min\u001b[0m \u001b[0mfiles\u001b[0m\u001b[0;34m)\u001b[0m\u001b[0;34m\u001b[0m\u001b[0;34m\u001b[0m\u001b[0m\n\u001b[0m\u001b[1;32m      8\u001b[0m \u001b[0mensemble\u001b[0m \u001b[0;34m=\u001b[0m \u001b[0mpd\u001b[0m\u001b[0;34m.\u001b[0m\u001b[0mconcat\u001b[0m\u001b[0;34m(\u001b[0m\u001b[0msubmissions\u001b[0m\u001b[0;34m,\u001b[0m \u001b[0maxis\u001b[0m\u001b[0;34m=\u001b[0m\u001b[0;34m'columns'\u001b[0m\u001b[0;34m)\u001b[0m\u001b[0;34m\u001b[0m\u001b[0;34m\u001b[0m\u001b[0m\n\u001b[1;32m      9\u001b[0m \u001b[0mmajority_vote\u001b[0m \u001b[0;34m=\u001b[0m \u001b[0mensemble\u001b[0m\u001b[0;34m.\u001b[0m\u001b[0mmode\u001b[0m\u001b[0;34m(\u001b[0m\u001b[0maxis\u001b[0m\u001b[0;34m=\u001b[0m\u001b[0;34m'columns'\u001b[0m\u001b[0;34m)\u001b[0m\u001b[0;34m[\u001b[0m\u001b[0;36m0\u001b[0m\u001b[0;34m]\u001b[0m\u001b[0;34m\u001b[0m\u001b[0;34m\u001b[0m\u001b[0m\n",
            "\u001b[0;32m/usr/local/lib/python3.6/dist-packages/pandas/io/parsers.py\u001b[0m in \u001b[0;36mread_csv\u001b[0;34m(filepath_or_buffer, sep, delimiter, header, names, index_col, usecols, squeeze, prefix, mangle_dupe_cols, dtype, engine, converters, true_values, false_values, skipinitialspace, skiprows, skipfooter, nrows, na_values, keep_default_na, na_filter, verbose, skip_blank_lines, parse_dates, infer_datetime_format, keep_date_col, date_parser, dayfirst, cache_dates, iterator, chunksize, compression, thousands, decimal, lineterminator, quotechar, quoting, doublequote, escapechar, comment, encoding, dialect, error_bad_lines, warn_bad_lines, delim_whitespace, low_memory, memory_map, float_precision)\u001b[0m\n\u001b[1;32m    686\u001b[0m     )\n\u001b[1;32m    687\u001b[0m \u001b[0;34m\u001b[0m\u001b[0m\n\u001b[0;32m--> 688\u001b[0;31m     \u001b[0;32mreturn\u001b[0m \u001b[0m_read\u001b[0m\u001b[0;34m(\u001b[0m\u001b[0mfilepath_or_buffer\u001b[0m\u001b[0;34m,\u001b[0m \u001b[0mkwds\u001b[0m\u001b[0;34m)\u001b[0m\u001b[0;34m\u001b[0m\u001b[0;34m\u001b[0m\u001b[0m\n\u001b[0m\u001b[1;32m    689\u001b[0m \u001b[0;34m\u001b[0m\u001b[0m\n\u001b[1;32m    690\u001b[0m \u001b[0;34m\u001b[0m\u001b[0m\n",
            "\u001b[0;32m/usr/local/lib/python3.6/dist-packages/pandas/io/parsers.py\u001b[0m in \u001b[0;36m_read\u001b[0;34m(filepath_or_buffer, kwds)\u001b[0m\n\u001b[1;32m    452\u001b[0m \u001b[0;34m\u001b[0m\u001b[0m\n\u001b[1;32m    453\u001b[0m     \u001b[0;31m# Create the parser.\u001b[0m\u001b[0;34m\u001b[0m\u001b[0;34m\u001b[0m\u001b[0;34m\u001b[0m\u001b[0m\n\u001b[0;32m--> 454\u001b[0;31m     \u001b[0mparser\u001b[0m \u001b[0;34m=\u001b[0m \u001b[0mTextFileReader\u001b[0m\u001b[0;34m(\u001b[0m\u001b[0mfp_or_buf\u001b[0m\u001b[0;34m,\u001b[0m \u001b[0;34m**\u001b[0m\u001b[0mkwds\u001b[0m\u001b[0;34m)\u001b[0m\u001b[0;34m\u001b[0m\u001b[0;34m\u001b[0m\u001b[0m\n\u001b[0m\u001b[1;32m    455\u001b[0m \u001b[0;34m\u001b[0m\u001b[0m\n\u001b[1;32m    456\u001b[0m     \u001b[0;32mif\u001b[0m \u001b[0mchunksize\u001b[0m \u001b[0;32mor\u001b[0m \u001b[0miterator\u001b[0m\u001b[0;34m:\u001b[0m\u001b[0;34m\u001b[0m\u001b[0;34m\u001b[0m\u001b[0m\n",
            "\u001b[0;32m/usr/local/lib/python3.6/dist-packages/pandas/io/parsers.py\u001b[0m in \u001b[0;36m__init__\u001b[0;34m(self, f, engine, **kwds)\u001b[0m\n\u001b[1;32m    946\u001b[0m             \u001b[0mself\u001b[0m\u001b[0;34m.\u001b[0m\u001b[0moptions\u001b[0m\u001b[0;34m[\u001b[0m\u001b[0;34m\"has_index_names\"\u001b[0m\u001b[0;34m]\u001b[0m \u001b[0;34m=\u001b[0m \u001b[0mkwds\u001b[0m\u001b[0;34m[\u001b[0m\u001b[0;34m\"has_index_names\"\u001b[0m\u001b[0;34m]\u001b[0m\u001b[0;34m\u001b[0m\u001b[0;34m\u001b[0m\u001b[0m\n\u001b[1;32m    947\u001b[0m \u001b[0;34m\u001b[0m\u001b[0m\n\u001b[0;32m--> 948\u001b[0;31m         \u001b[0mself\u001b[0m\u001b[0;34m.\u001b[0m\u001b[0m_make_engine\u001b[0m\u001b[0;34m(\u001b[0m\u001b[0mself\u001b[0m\u001b[0;34m.\u001b[0m\u001b[0mengine\u001b[0m\u001b[0;34m)\u001b[0m\u001b[0;34m\u001b[0m\u001b[0;34m\u001b[0m\u001b[0m\n\u001b[0m\u001b[1;32m    949\u001b[0m \u001b[0;34m\u001b[0m\u001b[0m\n\u001b[1;32m    950\u001b[0m     \u001b[0;32mdef\u001b[0m \u001b[0mclose\u001b[0m\u001b[0;34m(\u001b[0m\u001b[0mself\u001b[0m\u001b[0;34m)\u001b[0m\u001b[0;34m:\u001b[0m\u001b[0;34m\u001b[0m\u001b[0;34m\u001b[0m\u001b[0m\n",
            "\u001b[0;32m/usr/local/lib/python3.6/dist-packages/pandas/io/parsers.py\u001b[0m in \u001b[0;36m_make_engine\u001b[0;34m(self, engine)\u001b[0m\n\u001b[1;32m   1178\u001b[0m     \u001b[0;32mdef\u001b[0m \u001b[0m_make_engine\u001b[0m\u001b[0;34m(\u001b[0m\u001b[0mself\u001b[0m\u001b[0;34m,\u001b[0m \u001b[0mengine\u001b[0m\u001b[0;34m=\u001b[0m\u001b[0;34m\"c\"\u001b[0m\u001b[0;34m)\u001b[0m\u001b[0;34m:\u001b[0m\u001b[0;34m\u001b[0m\u001b[0;34m\u001b[0m\u001b[0m\n\u001b[1;32m   1179\u001b[0m         \u001b[0;32mif\u001b[0m \u001b[0mengine\u001b[0m \u001b[0;34m==\u001b[0m \u001b[0;34m\"c\"\u001b[0m\u001b[0;34m:\u001b[0m\u001b[0;34m\u001b[0m\u001b[0;34m\u001b[0m\u001b[0m\n\u001b[0;32m-> 1180\u001b[0;31m             \u001b[0mself\u001b[0m\u001b[0;34m.\u001b[0m\u001b[0m_engine\u001b[0m \u001b[0;34m=\u001b[0m \u001b[0mCParserWrapper\u001b[0m\u001b[0;34m(\u001b[0m\u001b[0mself\u001b[0m\u001b[0;34m.\u001b[0m\u001b[0mf\u001b[0m\u001b[0;34m,\u001b[0m \u001b[0;34m**\u001b[0m\u001b[0mself\u001b[0m\u001b[0;34m.\u001b[0m\u001b[0moptions\u001b[0m\u001b[0;34m)\u001b[0m\u001b[0;34m\u001b[0m\u001b[0;34m\u001b[0m\u001b[0m\n\u001b[0m\u001b[1;32m   1181\u001b[0m         \u001b[0;32melse\u001b[0m\u001b[0;34m:\u001b[0m\u001b[0;34m\u001b[0m\u001b[0;34m\u001b[0m\u001b[0m\n\u001b[1;32m   1182\u001b[0m             \u001b[0;32mif\u001b[0m \u001b[0mengine\u001b[0m \u001b[0;34m==\u001b[0m \u001b[0;34m\"python\"\u001b[0m\u001b[0;34m:\u001b[0m\u001b[0;34m\u001b[0m\u001b[0;34m\u001b[0m\u001b[0m\n",
            "\u001b[0;32m/usr/local/lib/python3.6/dist-packages/pandas/io/parsers.py\u001b[0m in \u001b[0;36m__init__\u001b[0;34m(self, src, **kwds)\u001b[0m\n\u001b[1;32m   2008\u001b[0m         \u001b[0mkwds\u001b[0m\u001b[0;34m[\u001b[0m\u001b[0;34m\"usecols\"\u001b[0m\u001b[0;34m]\u001b[0m \u001b[0;34m=\u001b[0m \u001b[0mself\u001b[0m\u001b[0;34m.\u001b[0m\u001b[0musecols\u001b[0m\u001b[0;34m\u001b[0m\u001b[0;34m\u001b[0m\u001b[0m\n\u001b[1;32m   2009\u001b[0m \u001b[0;34m\u001b[0m\u001b[0m\n\u001b[0;32m-> 2010\u001b[0;31m         \u001b[0mself\u001b[0m\u001b[0;34m.\u001b[0m\u001b[0m_reader\u001b[0m \u001b[0;34m=\u001b[0m \u001b[0mparsers\u001b[0m\u001b[0;34m.\u001b[0m\u001b[0mTextReader\u001b[0m\u001b[0;34m(\u001b[0m\u001b[0msrc\u001b[0m\u001b[0;34m,\u001b[0m \u001b[0;34m**\u001b[0m\u001b[0mkwds\u001b[0m\u001b[0;34m)\u001b[0m\u001b[0;34m\u001b[0m\u001b[0;34m\u001b[0m\u001b[0m\n\u001b[0m\u001b[1;32m   2011\u001b[0m         \u001b[0mself\u001b[0m\u001b[0;34m.\u001b[0m\u001b[0munnamed_cols\u001b[0m \u001b[0;34m=\u001b[0m \u001b[0mself\u001b[0m\u001b[0;34m.\u001b[0m\u001b[0m_reader\u001b[0m\u001b[0;34m.\u001b[0m\u001b[0munnamed_cols\u001b[0m\u001b[0;34m\u001b[0m\u001b[0;34m\u001b[0m\u001b[0m\n\u001b[1;32m   2012\u001b[0m \u001b[0;34m\u001b[0m\u001b[0m\n",
            "\u001b[0;32mpandas/_libs/parsers.pyx\u001b[0m in \u001b[0;36mpandas._libs.parsers.TextReader.__cinit__\u001b[0;34m()\u001b[0m\n",
            "\u001b[0;32mpandas/_libs/parsers.pyx\u001b[0m in \u001b[0;36mpandas._libs.parsers.TextReader._setup_parser_source\u001b[0;34m()\u001b[0m\n",
            "\u001b[0;31mFileNotFoundError\u001b[0m: [Errno 2] No such file or directory: 'submission-01.csv'"
          ]
        }
      ]
    },
    {
      "cell_type": "code",
      "metadata": {
        "id": "1OC8218UsmwN"
      },
      "source": [
        ""
      ],
      "execution_count": null,
      "outputs": []
    }
  ]
}